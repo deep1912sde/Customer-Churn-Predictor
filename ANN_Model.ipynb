{
 "cells": [
  {
   "cell_type": "markdown",
   "id": "6e9ac09d",
   "metadata": {},
   "source": [
    "# ANN Model For Churn Prediction"
   ]
  },
  {
   "cell_type": "markdown",
   "id": "5ce27b65",
   "metadata": {},
   "source": [
    "Importing necessary libraries"
   ]
  },
  {
   "cell_type": "code",
   "execution_count": 137,
   "id": "36328af9",
   "metadata": {},
   "outputs": [],
   "source": [
    "import numpy as np\n",
    "import pandas as pd\n",
    "from sklearn.model_selection import train_test_split\n",
    "from sklearn.preprocessing import StandardScaler, OneHotEncoder\n",
    "from tensorflow.keras.models import Sequential\n",
    "from tensorflow.keras.layers import Dense"
   ]
  },
  {
   "cell_type": "markdown",
   "id": "1d9d74d5",
   "metadata": {},
   "source": [
    "Load your dataset"
   ]
  },
  {
   "cell_type": "code",
   "execution_count": 138,
   "id": "dee58f04",
   "metadata": {},
   "outputs": [],
   "source": [
    "data = pd.read_csv(r'Churn_Modelling.csv')\n",
    "data.drop(['RowNumber', 'CustomerId', 'Surname'], axis=1, inplace=True)"
   ]
  },
  {
   "cell_type": "markdown",
   "id": "1cb314cd",
   "metadata": {},
   "source": [
    "Preprocess the data"
   ]
  },
  {
   "cell_type": "code",
   "execution_count": 139,
   "id": "9783806d",
   "metadata": {},
   "outputs": [],
   "source": [
    "X = data.drop(columns=['Exited'])\n",
    "y = data['Exited']"
   ]
  },
  {
   "cell_type": "markdown",
   "id": "99851463",
   "metadata": {},
   "source": [
    "One-hot encode categorical columns"
   ]
  },
  {
   "cell_type": "code",
   "execution_count": 140,
   "id": "0e869b6c",
   "metadata": {},
   "outputs": [],
   "source": [
    "categorical_columns = ['Geography', 'Gender']  \n",
    "X = pd.get_dummies(X, columns=categorical_columns, drop_first=False)"
   ]
  },
  {
   "cell_type": "markdown",
   "id": "7c4c0fca",
   "metadata": {},
   "source": [
    "Split the dataset into training and testing sets\n"
   ]
  },
  {
   "cell_type": "code",
   "execution_count": 141,
   "id": "e7a33e1c",
   "metadata": {},
   "outputs": [],
   "source": [
    "X_train, X_test, y_train, y_test = train_test_split(X, y, test_size=0.2, random_state=42)"
   ]
  },
  {
   "cell_type": "markdown",
   "id": "7452c3f7",
   "metadata": {},
   "source": [
    "Scale the features"
   ]
  },
  {
   "cell_type": "code",
   "execution_count": 142,
   "id": "237012b5",
   "metadata": {},
   "outputs": [],
   "source": [
    "scaler = StandardScaler()\n",
    "X_train = scaler.fit_transform(X_train)\n",
    "X_test = scaler.transform(X_test)"
   ]
  },
  {
   "cell_type": "markdown",
   "id": "f93d8269",
   "metadata": {},
   "source": [
    "Build the ANN model"
   ]
  },
  {
   "cell_type": "code",
   "execution_count": 143,
   "id": "df24d740",
   "metadata": {},
   "outputs": [],
   "source": [
    "model = Sequential()"
   ]
  },
  {
   "cell_type": "markdown",
   "id": "4c85662e",
   "metadata": {},
   "source": [
    "Input layer and first, second & output hidden layer"
   ]
  },
  {
   "cell_type": "code",
   "execution_count": 144,
   "id": "b69ecbec",
   "metadata": {},
   "outputs": [
    {
     "name": "stderr",
     "output_type": "stream",
     "text": [
      "c:\\Users\\ankit\\AppData\\Local\\Programs\\Python\\Python312\\Lib\\site-packages\\keras\\src\\layers\\core\\dense.py:87: UserWarning: Do not pass an `input_shape`/`input_dim` argument to a layer. When using Sequential models, prefer using an `Input(shape)` object as the first layer in the model instead.\n",
      "  super().__init__(activity_regularizer=activity_regularizer, **kwargs)\n"
     ]
    }
   ],
   "source": [
    "model.add(Dense(units=32, activation='relu', input_dim=X_train.shape[1]))\n",
    "model.add(Dense(units=16, activation='relu'))\n",
    "model.add(Dense(units=1, activation='sigmoid'))"
   ]
  },
  {
   "cell_type": "markdown",
   "id": "27168a31",
   "metadata": {},
   "source": [
    "Compile the model"
   ]
  },
  {
   "cell_type": "code",
   "execution_count": null,
   "id": "80285f60",
   "metadata": {},
   "outputs": [],
   "source": [
    "model.compile(optimizer='adam', loss='binary_crossentropy', metrics=['accuracy'])"
   ]
  },
  {
   "cell_type": "markdown",
   "id": "112c1a85",
   "metadata": {},
   "source": [
    "Train the model"
   ]
  },
  {
   "cell_type": "code",
   "execution_count": 146,
   "id": "3e58d52a",
   "metadata": {},
   "outputs": [
    {
     "name": "stdout",
     "output_type": "stream",
     "text": [
      "Epoch 1/50\n",
      "\u001b[1m320/320\u001b[0m \u001b[32m━━━━━━━━━━━━━━━━━━━━\u001b[0m\u001b[37m\u001b[0m \u001b[1m2s\u001b[0m 4ms/step - accuracy: 0.7656 - loss: 0.5313 - val_accuracy: 0.8225 - val_loss: 0.4193\n",
      "Epoch 2/50\n",
      "\u001b[1m320/320\u001b[0m \u001b[32m━━━━━━━━━━━━━━━━━━━━\u001b[0m\u001b[37m\u001b[0m \u001b[1m1s\u001b[0m 3ms/step - accuracy: 0.8113 - loss: 0.4265 - val_accuracy: 0.8356 - val_loss: 0.4006\n",
      "Epoch 3/50\n",
      "\u001b[1m320/320\u001b[0m \u001b[32m━━━━━━━━━━━━━━━━━━━━\u001b[0m\u001b[37m\u001b[0m \u001b[1m1s\u001b[0m 3ms/step - accuracy: 0.8356 - loss: 0.3883 - val_accuracy: 0.8438 - val_loss: 0.3796\n",
      "Epoch 4/50\n",
      "\u001b[1m320/320\u001b[0m \u001b[32m━━━━━━━━━━━━━━━━━━━━\u001b[0m\u001b[37m\u001b[0m \u001b[1m1s\u001b[0m 3ms/step - accuracy: 0.8480 - loss: 0.3714 - val_accuracy: 0.8475 - val_loss: 0.3632\n",
      "Epoch 5/50\n",
      "\u001b[1m320/320\u001b[0m \u001b[32m━━━━━━━━━━━━━━━━━━━━\u001b[0m\u001b[37m\u001b[0m \u001b[1m1s\u001b[0m 3ms/step - accuracy: 0.8572 - loss: 0.3504 - val_accuracy: 0.8575 - val_loss: 0.3556\n",
      "Epoch 6/50\n",
      "\u001b[1m320/320\u001b[0m \u001b[32m━━━━━━━━━━━━━━━━━━━━\u001b[0m\u001b[37m\u001b[0m \u001b[1m1s\u001b[0m 3ms/step - accuracy: 0.8588 - loss: 0.3356 - val_accuracy: 0.8537 - val_loss: 0.3507\n",
      "Epoch 7/50\n",
      "\u001b[1m320/320\u001b[0m \u001b[32m━━━━━━━━━━━━━━━━━━━━\u001b[0m\u001b[37m\u001b[0m \u001b[1m1s\u001b[0m 3ms/step - accuracy: 0.8547 - loss: 0.3539 - val_accuracy: 0.8575 - val_loss: 0.3499\n",
      "Epoch 8/50\n",
      "\u001b[1m320/320\u001b[0m \u001b[32m━━━━━━━━━━━━━━━━━━━━\u001b[0m\u001b[37m\u001b[0m \u001b[1m1s\u001b[0m 3ms/step - accuracy: 0.8633 - loss: 0.3300 - val_accuracy: 0.8575 - val_loss: 0.3459\n",
      "Epoch 9/50\n",
      "\u001b[1m320/320\u001b[0m \u001b[32m━━━━━━━━━━━━━━━━━━━━\u001b[0m\u001b[37m\u001b[0m \u001b[1m1s\u001b[0m 2ms/step - accuracy: 0.8638 - loss: 0.3329 - val_accuracy: 0.8581 - val_loss: 0.3486\n",
      "Epoch 10/50\n",
      "\u001b[1m320/320\u001b[0m \u001b[32m━━━━━━━━━━━━━━━━━━━━\u001b[0m\u001b[37m\u001b[0m \u001b[1m1s\u001b[0m 3ms/step - accuracy: 0.8694 - loss: 0.3251 - val_accuracy: 0.8575 - val_loss: 0.3472\n",
      "Epoch 11/50\n",
      "\u001b[1m320/320\u001b[0m \u001b[32m━━━━━━━━━━━━━━━━━━━━\u001b[0m\u001b[37m\u001b[0m \u001b[1m1s\u001b[0m 3ms/step - accuracy: 0.8603 - loss: 0.3333 - val_accuracy: 0.8556 - val_loss: 0.3483\n",
      "Epoch 12/50\n",
      "\u001b[1m320/320\u001b[0m \u001b[32m━━━━━━━━━━━━━━━━━━━━\u001b[0m\u001b[37m\u001b[0m \u001b[1m1s\u001b[0m 3ms/step - accuracy: 0.8688 - loss: 0.3224 - val_accuracy: 0.8575 - val_loss: 0.3472\n",
      "Epoch 13/50\n",
      "\u001b[1m320/320\u001b[0m \u001b[32m━━━━━━━━━━━━━━━━━━━━\u001b[0m\u001b[37m\u001b[0m \u001b[1m1s\u001b[0m 3ms/step - accuracy: 0.8610 - loss: 0.3327 - val_accuracy: 0.8581 - val_loss: 0.3485\n",
      "Epoch 14/50\n",
      "\u001b[1m320/320\u001b[0m \u001b[32m━━━━━━━━━━━━━━━━━━━━\u001b[0m\u001b[37m\u001b[0m \u001b[1m1s\u001b[0m 3ms/step - accuracy: 0.8682 - loss: 0.3234 - val_accuracy: 0.8556 - val_loss: 0.3452\n",
      "Epoch 15/50\n",
      "\u001b[1m320/320\u001b[0m \u001b[32m━━━━━━━━━━━━━━━━━━━━\u001b[0m\u001b[37m\u001b[0m \u001b[1m1s\u001b[0m 3ms/step - accuracy: 0.8660 - loss: 0.3278 - val_accuracy: 0.8606 - val_loss: 0.3447\n",
      "Epoch 16/50\n",
      "\u001b[1m320/320\u001b[0m \u001b[32m━━━━━━━━━━━━━━━━━━━━\u001b[0m\u001b[37m\u001b[0m \u001b[1m1s\u001b[0m 3ms/step - accuracy: 0.8664 - loss: 0.3205 - val_accuracy: 0.8569 - val_loss: 0.3451\n",
      "Epoch 17/50\n",
      "\u001b[1m320/320\u001b[0m \u001b[32m━━━━━━━━━━━━━━━━━━━━\u001b[0m\u001b[37m\u001b[0m \u001b[1m1s\u001b[0m 3ms/step - accuracy: 0.8686 - loss: 0.3191 - val_accuracy: 0.8525 - val_loss: 0.3454\n",
      "Epoch 18/50\n",
      "\u001b[1m320/320\u001b[0m \u001b[32m━━━━━━━━━━━━━━━━━━━━\u001b[0m\u001b[37m\u001b[0m \u001b[1m1s\u001b[0m 3ms/step - accuracy: 0.8641 - loss: 0.3175 - val_accuracy: 0.8594 - val_loss: 0.3448\n",
      "Epoch 19/50\n",
      "\u001b[1m320/320\u001b[0m \u001b[32m━━━━━━━━━━━━━━━━━━━━\u001b[0m\u001b[37m\u001b[0m \u001b[1m1s\u001b[0m 3ms/step - accuracy: 0.8756 - loss: 0.3083 - val_accuracy: 0.8550 - val_loss: 0.3451\n",
      "Epoch 20/50\n",
      "\u001b[1m320/320\u001b[0m \u001b[32m━━━━━━━━━━━━━━━━━━━━\u001b[0m\u001b[37m\u001b[0m \u001b[1m1s\u001b[0m 2ms/step - accuracy: 0.8753 - loss: 0.3060 - val_accuracy: 0.8537 - val_loss: 0.3458\n",
      "Epoch 21/50\n",
      "\u001b[1m320/320\u001b[0m \u001b[32m━━━━━━━━━━━━━━━━━━━━\u001b[0m\u001b[37m\u001b[0m \u001b[1m1s\u001b[0m 3ms/step - accuracy: 0.8667 - loss: 0.3162 - val_accuracy: 0.8594 - val_loss: 0.3478\n",
      "Epoch 22/50\n",
      "\u001b[1m320/320\u001b[0m \u001b[32m━━━━━━━━━━━━━━━━━━━━\u001b[0m\u001b[37m\u001b[0m \u001b[1m1s\u001b[0m 2ms/step - accuracy: 0.8670 - loss: 0.3255 - val_accuracy: 0.8556 - val_loss: 0.3432\n",
      "Epoch 23/50\n",
      "\u001b[1m320/320\u001b[0m \u001b[32m━━━━━━━━━━━━━━━━━━━━\u001b[0m\u001b[37m\u001b[0m \u001b[1m0s\u001b[0m 1ms/step - accuracy: 0.8787 - loss: 0.3025 - val_accuracy: 0.8531 - val_loss: 0.3445\n",
      "Epoch 24/50\n",
      "\u001b[1m320/320\u001b[0m \u001b[32m━━━━━━━━━━━━━━━━━━━━\u001b[0m\u001b[37m\u001b[0m \u001b[1m1s\u001b[0m 3ms/step - accuracy: 0.8762 - loss: 0.3052 - val_accuracy: 0.8544 - val_loss: 0.3495\n",
      "Epoch 25/50\n",
      "\u001b[1m320/320\u001b[0m \u001b[32m━━━━━━━━━━━━━━━━━━━━\u001b[0m\u001b[37m\u001b[0m \u001b[1m1s\u001b[0m 2ms/step - accuracy: 0.8770 - loss: 0.3000 - val_accuracy: 0.8581 - val_loss: 0.3446\n",
      "Epoch 26/50\n",
      "\u001b[1m320/320\u001b[0m \u001b[32m━━━━━━━━━━━━━━━━━━━━\u001b[0m\u001b[37m\u001b[0m \u001b[1m0s\u001b[0m 1ms/step - accuracy: 0.8732 - loss: 0.3056 - val_accuracy: 0.8562 - val_loss: 0.3439\n",
      "Epoch 27/50\n",
      "\u001b[1m320/320\u001b[0m \u001b[32m━━━━━━━━━━━━━━━━━━━━\u001b[0m\u001b[37m\u001b[0m \u001b[1m1s\u001b[0m 2ms/step - accuracy: 0.8741 - loss: 0.3162 - val_accuracy: 0.8537 - val_loss: 0.3451\n",
      "Epoch 28/50\n",
      "\u001b[1m320/320\u001b[0m \u001b[32m━━━━━━━━━━━━━━━━━━━━\u001b[0m\u001b[37m\u001b[0m \u001b[1m1s\u001b[0m 2ms/step - accuracy: 0.8766 - loss: 0.3069 - val_accuracy: 0.8519 - val_loss: 0.3441\n",
      "Epoch 29/50\n",
      "\u001b[1m320/320\u001b[0m \u001b[32m━━━━━━━━━━━━━━━━━━━━\u001b[0m\u001b[37m\u001b[0m \u001b[1m1s\u001b[0m 3ms/step - accuracy: 0.8698 - loss: 0.3116 - val_accuracy: 0.8531 - val_loss: 0.3450\n",
      "Epoch 30/50\n",
      "\u001b[1m320/320\u001b[0m \u001b[32m━━━━━━━━━━━━━━━━━━━━\u001b[0m\u001b[37m\u001b[0m \u001b[1m1s\u001b[0m 3ms/step - accuracy: 0.8737 - loss: 0.3154 - val_accuracy: 0.8556 - val_loss: 0.3456\n",
      "Epoch 31/50\n",
      "\u001b[1m320/320\u001b[0m \u001b[32m━━━━━━━━━━━━━━━━━━━━\u001b[0m\u001b[37m\u001b[0m \u001b[1m1s\u001b[0m 4ms/step - accuracy: 0.8727 - loss: 0.3080 - val_accuracy: 0.8531 - val_loss: 0.3466\n",
      "Epoch 32/50\n",
      "\u001b[1m320/320\u001b[0m \u001b[32m━━━━━━━━━━━━━━━━━━━━\u001b[0m\u001b[37m\u001b[0m \u001b[1m1s\u001b[0m 3ms/step - accuracy: 0.8654 - loss: 0.3154 - val_accuracy: 0.8506 - val_loss: 0.3475\n",
      "Epoch 33/50\n",
      "\u001b[1m320/320\u001b[0m \u001b[32m━━━━━━━━━━━━━━━━━━━━\u001b[0m\u001b[37m\u001b[0m \u001b[1m1s\u001b[0m 3ms/step - accuracy: 0.8743 - loss: 0.3141 - val_accuracy: 0.8531 - val_loss: 0.3598\n",
      "Epoch 34/50\n",
      "\u001b[1m320/320\u001b[0m \u001b[32m━━━━━━━━━━━━━━━━━━━━\u001b[0m\u001b[37m\u001b[0m \u001b[1m1s\u001b[0m 3ms/step - accuracy: 0.8707 - loss: 0.3157 - val_accuracy: 0.8575 - val_loss: 0.3456\n",
      "Epoch 35/50\n",
      "\u001b[1m320/320\u001b[0m \u001b[32m━━━━━━━━━━━━━━━━━━━━\u001b[0m\u001b[37m\u001b[0m \u001b[1m1s\u001b[0m 4ms/step - accuracy: 0.8778 - loss: 0.2991 - val_accuracy: 0.8531 - val_loss: 0.3466\n",
      "Epoch 36/50\n",
      "\u001b[1m320/320\u001b[0m \u001b[32m━━━━━━━━━━━━━━━━━━━━\u001b[0m\u001b[37m\u001b[0m \u001b[1m2s\u001b[0m 5ms/step - accuracy: 0.8731 - loss: 0.3032 - val_accuracy: 0.8537 - val_loss: 0.3456\n",
      "Epoch 37/50\n",
      "\u001b[1m320/320\u001b[0m \u001b[32m━━━━━━━━━━━━━━━━━━━━\u001b[0m\u001b[37m\u001b[0m \u001b[1m2s\u001b[0m 5ms/step - accuracy: 0.8711 - loss: 0.3112 - val_accuracy: 0.8575 - val_loss: 0.3454\n",
      "Epoch 38/50\n",
      "\u001b[1m320/320\u001b[0m \u001b[32m━━━━━━━━━━━━━━━━━━━━\u001b[0m\u001b[37m\u001b[0m \u001b[1m2s\u001b[0m 4ms/step - accuracy: 0.8832 - loss: 0.2945 - val_accuracy: 0.8525 - val_loss: 0.3471\n",
      "Epoch 39/50\n",
      "\u001b[1m320/320\u001b[0m \u001b[32m━━━━━━━━━━━━━━━━━━━━\u001b[0m\u001b[37m\u001b[0m \u001b[1m2s\u001b[0m 4ms/step - accuracy: 0.8830 - loss: 0.2977 - val_accuracy: 0.8487 - val_loss: 0.3465\n",
      "Epoch 40/50\n",
      "\u001b[1m320/320\u001b[0m \u001b[32m━━━━━━━━━━━━━━━━━━━━\u001b[0m\u001b[37m\u001b[0m \u001b[1m2s\u001b[0m 5ms/step - accuracy: 0.8746 - loss: 0.3068 - val_accuracy: 0.8550 - val_loss: 0.3468\n",
      "Epoch 41/50\n",
      "\u001b[1m320/320\u001b[0m \u001b[32m━━━━━━━━━━━━━━━━━━━━\u001b[0m\u001b[37m\u001b[0m \u001b[1m2s\u001b[0m 4ms/step - accuracy: 0.8711 - loss: 0.3139 - val_accuracy: 0.8519 - val_loss: 0.3514\n",
      "Epoch 42/50\n",
      "\u001b[1m320/320\u001b[0m \u001b[32m━━━━━━━━━━━━━━━━━━━━\u001b[0m\u001b[37m\u001b[0m \u001b[1m1s\u001b[0m 4ms/step - accuracy: 0.8744 - loss: 0.3076 - val_accuracy: 0.8512 - val_loss: 0.3475\n",
      "Epoch 43/50\n",
      "\u001b[1m320/320\u001b[0m \u001b[32m━━━━━━━━━━━━━━━━━━━━\u001b[0m\u001b[37m\u001b[0m \u001b[1m2s\u001b[0m 5ms/step - accuracy: 0.8747 - loss: 0.3070 - val_accuracy: 0.8537 - val_loss: 0.3483\n",
      "Epoch 44/50\n",
      "\u001b[1m320/320\u001b[0m \u001b[32m━━━━━━━━━━━━━━━━━━━━\u001b[0m\u001b[37m\u001b[0m \u001b[1m2s\u001b[0m 4ms/step - accuracy: 0.8763 - loss: 0.3030 - val_accuracy: 0.8494 - val_loss: 0.3521\n",
      "Epoch 45/50\n",
      "\u001b[1m320/320\u001b[0m \u001b[32m━━━━━━━━━━━━━━━━━━━━\u001b[0m\u001b[37m\u001b[0m \u001b[1m2s\u001b[0m 5ms/step - accuracy: 0.8740 - loss: 0.3066 - val_accuracy: 0.8512 - val_loss: 0.3492\n",
      "Epoch 46/50\n",
      "\u001b[1m320/320\u001b[0m \u001b[32m━━━━━━━━━━━━━━━━━━━━\u001b[0m\u001b[37m\u001b[0m \u001b[1m2s\u001b[0m 7ms/step - accuracy: 0.8706 - loss: 0.3072 - val_accuracy: 0.8575 - val_loss: 0.3499\n",
      "Epoch 47/50\n",
      "\u001b[1m320/320\u001b[0m \u001b[32m━━━━━━━━━━━━━━━━━━━━\u001b[0m\u001b[37m\u001b[0m \u001b[1m1s\u001b[0m 4ms/step - accuracy: 0.8703 - loss: 0.3114 - val_accuracy: 0.8525 - val_loss: 0.3592\n",
      "Epoch 48/50\n",
      "\u001b[1m320/320\u001b[0m \u001b[32m━━━━━━━━━━━━━━━━━━━━\u001b[0m\u001b[37m\u001b[0m \u001b[1m2s\u001b[0m 5ms/step - accuracy: 0.8755 - loss: 0.3016 - val_accuracy: 0.8500 - val_loss: 0.3513\n",
      "Epoch 49/50\n",
      "\u001b[1m320/320\u001b[0m \u001b[32m━━━━━━━━━━━━━━━━━━━━\u001b[0m\u001b[37m\u001b[0m \u001b[1m1s\u001b[0m 3ms/step - accuracy: 0.8765 - loss: 0.3031 - val_accuracy: 0.8525 - val_loss: 0.3509\n",
      "Epoch 50/50\n",
      "\u001b[1m320/320\u001b[0m \u001b[32m━━━━━━━━━━━━━━━━━━━━\u001b[0m\u001b[37m\u001b[0m \u001b[1m1s\u001b[0m 3ms/step - accuracy: 0.8735 - loss: 0.2966 - val_accuracy: 0.8475 - val_loss: 0.3527\n"
     ]
    },
    {
     "data": {
      "text/plain": [
       "<keras.src.callbacks.history.History at 0x1f6010e4c80>"
      ]
     },
     "execution_count": 146,
     "metadata": {},
     "output_type": "execute_result"
    }
   ],
   "source": [
    "model.fit(X_train, y_train, epochs=50, batch_size=20, validation_split=0.2)"
   ]
  },
  {
   "cell_type": "markdown",
   "id": "bebd0c8d",
   "metadata": {},
   "source": [
    "Evaluate the model"
   ]
  },
  {
   "cell_type": "code",
   "execution_count": 147,
   "id": "de941006",
   "metadata": {},
   "outputs": [
    {
     "name": "stdout",
     "output_type": "stream",
     "text": [
      "\u001b[1m63/63\u001b[0m \u001b[32m━━━━━━━━━━━━━━━━━━━━\u001b[0m\u001b[37m\u001b[0m \u001b[1m0s\u001b[0m 2ms/step - accuracy: 0.8640 - loss: 0.3526\n",
      "Test Loss: 0.35730329155921936\n",
      "Test Accuracy: 0.859000027179718\n"
     ]
    }
   ],
   "source": [
    "loss, accuracy = model.evaluate(X_test, y_test)\n",
    "print(f\"Test Loss: {loss}\")\n",
    "print(f\"Test Accuracy: {accuracy}\")"
   ]
  },
  {
   "cell_type": "markdown",
   "id": "f6369ddf",
   "metadata": {},
   "source": [
    "Make predictions"
   ]
  },
  {
   "cell_type": "code",
   "execution_count": 148,
   "id": "a3f07369",
   "metadata": {},
   "outputs": [
    {
     "name": "stdout",
     "output_type": "stream",
     "text": [
      "\u001b[1m63/63\u001b[0m \u001b[32m━━━━━━━━━━━━━━━━━━━━\u001b[0m\u001b[37m\u001b[0m \u001b[1m0s\u001b[0m 3ms/step\n"
     ]
    }
   ],
   "source": [
    "predictions = model.predict(X_test)\n",
    "predictions = (predictions > 0.5).astype(int)"
   ]
  },
  {
   "cell_type": "markdown",
   "id": "7e6de4ca",
   "metadata": {},
   "source": [
    "Save the model"
   ]
  },
  {
   "cell_type": "code",
   "execution_count": null,
   "id": "9530c39f",
   "metadata": {},
   "outputs": [
    {
     "name": "stderr",
     "output_type": "stream",
     "text": [
      "WARNING:absl:You are saving your model as an HDF5 file via `model.save()` or `keras.saving.save_model(model)`. This file format is considered legacy. We recommend using instead the native Keras format, e.g. `model.save('my_model.keras')` or `keras.saving.save_model(model, 'my_model.keras')`. \n"
     ]
    },
    {
     "data": {
      "text/plain": [
       "['scaler.pkl']"
      ]
     },
     "execution_count": 149,
     "metadata": {},
     "output_type": "execute_result"
    }
   ],
   "source": [
    "model.save('churn_model.h5')\n",
    "scaler_filename = 'scaler.pkl'\n",
    "import joblib\n",
    "\n",
    "joblib.dump(scaler, scaler_filename)"
   ]
  }
 ],
 "metadata": {
  "kernelspec": {
   "display_name": "Python 3",
   "language": "python",
   "name": "python3"
  },
  "language_info": {
   "codemirror_mode": {
    "name": "ipython",
    "version": 3
   },
   "file_extension": ".py",
   "mimetype": "text/x-python",
   "name": "python",
   "nbconvert_exporter": "python",
   "pygments_lexer": "ipython3",
   "version": "3.12.6"
  }
 },
 "nbformat": 4,
 "nbformat_minor": 5
}
